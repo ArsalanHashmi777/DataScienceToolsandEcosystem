{
 "cells": [
  {
   "cell_type": "markdown",
   "metadata": {},
   "source": [
    "<center>\n",
    "    <img src=\"https://cf-courses-data.s3.us.cloud-object-storage.appdomain.cloud/IBMDeveloperSkillsNetwork-DS0105EN-SkillsNetwork/labs/Module2/images/SN_web_lightmode.png\" width=\"300\" alt=\"cognitiveclass.ai logo\">\n",
    "</center>\n"
   ]
  },
  {
   "cell_type": "markdown",
   "metadata": {},
   "source": [
    "#### Add your code below following the instructions given in the course\n"
   ]
  },
  {
   "cell_type": "markdown",
   "metadata": {},
   "source": [
    "# Data Science Tools and Ecosystem"
   ]
  },
  {
   "cell_type": "markdown",
   "metadata": {
    "tags": []
   },
   "source": [
    "## Introduction\n",
    "\n",
    "In this notebook, Data Science Tools and Ecosystem.Data science tools and ecosystem are the software, hardware, and infrastructure that enable data science projects. Data science ecosystem is the process of collecting, managing, cleaning, reviewing etc."
   ]
  },
  {
   "cell_type": "markdown",
   "metadata": {},
   "source": [
    "## Common languages for Data Science\n",
    "\n",
    "Five commonly used Data Science languages are:\n",
    "\n",
    "1. Python\n",
    "\n",
    "2. SQL\n",
    "\n",
    "3. R\n",
    "\n",
    "4. Julia\n",
    "\n",
    "5. Javascript"
   ]
  },
  {
   "cell_type": "markdown",
   "metadata": {},
   "source": [
    "## Common libraries for Data Science\n",
    "\n",
    "Five commonly used Data Science libraries are:\n",
    "\n",
    "1. NumPy\n",
    "\n",
    "2. Pandas\n",
    "\n",
    "3. TensorFlow\n",
    "\n",
    "4. Scikitlearn\n",
    "\n",
    "5. SciPy"
   ]
  },
  {
   "cell_type": "markdown",
   "metadata": {},
   "source": [
    "| Data Science Tools |\n",
    "| --- |\n",
    "| Weka |\n",
    "| Scrapy |\n",
    "| Pandas |\n"
   ]
  },
  {
   "cell_type": "markdown",
   "metadata": {},
   "source": [
    "### Below are a few examples of evaluating arithmetic expressions in Python.\n",
    "\n",
    "**Addition**\n",
    "\n",
    "Sum = 5 + 5\n",
    "\n",
    "**Subtraction**\n",
    "\n",
    "Sub = 15 - 5\n",
    "\n",
    "**Multiplication**\n",
    "\n",
    "Mul = 5 * 2\n",
    "\n",
    "**Division**\n",
    "\n",
    "Div = 20 / 2\n",
    "\n",
    "**Modulo**\n",
    "\n",
    "Remainder = 35 % 25"
   ]
  },
  {
   "cell_type": "code",
   "execution_count": null,
   "metadata": {},
   "outputs": [],
   "source": [
    "# This a simple arithmetic expression to mutiply then add integers.\n",
    "    \n",
    "(3 * 4)+ 5    "
   ]
  }
 ],
 "metadata": {
  "kernelspec": {
   "display_name": "Python",
   "language": "python",
   "name": "conda-env-python-py"
  },
  "language_info": {
   "codemirror_mode": {
    "name": "ipython",
    "version": 3
   },
   "file_extension": ".py",
   "mimetype": "text/x-python",
   "name": "python",
   "nbconvert_exporter": "python",
   "pygments_lexer": "ipython3",
   "version": "3.7.12"
  }
 },
 "nbformat": 4,
 "nbformat_minor": 4
}

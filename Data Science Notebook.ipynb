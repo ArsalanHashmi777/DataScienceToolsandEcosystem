{
    "cells": [
        {
            "cell_type": "markdown",
            "metadata": {},
            "source": "## Description\nThis is a notebook"
        },
        {
            "cell_type": "code",
            "execution_count": 1,
            "metadata": {},
            "outputs": [
                {
                    "name": "stdout",
                    "output_type": "stream",
                    "text": "hello world\n"
                }
            ],
            "source": "print(\"hello world\")"
        },
        {
            "cell_type": "markdown",
            "metadata": {},
            "source": "**Hello World**"
        },
        {
            "cell_type": "code",
            "execution_count": 2,
            "metadata": {},
            "outputs": [
                {
                    "name": "stdout",
                    "output_type": "stream",
                    "text": "Bye world\n"
                }
            ],
            "source": "print(\"Bye world\")"
        },
        {
            "cell_type": "markdown",
            "metadata": {},
            "source": "**Bye World**"
        },
        {
            "cell_type": "code",
            "execution_count": null,
            "metadata": {},
            "outputs": [],
            "source": ""
        }
    ],
    "metadata": {
        "kernelspec": {
            "display_name": "Python 3.10",
            "language": "python",
            "name": "python3"
        },
        "language_info": {
            "codemirror_mode": {
                "name": "ipython",
                "version": 3
            },
            "file_extension": ".py",
            "mimetype": "text/x-python",
            "name": "python",
            "nbconvert_exporter": "python",
            "pygments_lexer": "ipython3",
            "version": "3.10.13"
        }
    },
    "nbformat": 4,
    "nbformat_minor": 1
}